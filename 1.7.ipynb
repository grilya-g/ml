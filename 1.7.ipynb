{
 "cells": [
  {
   "cell_type": "code",
   "execution_count": 1,
   "outputs": [],
   "source": [
    "import numpy as np\n",
    "import pandas as pd"
   ],
   "metadata": {
    "collapsed": false,
    "pycharm": {
     "name": "#%%\n"
    }
   }
  },
  {
   "cell_type": "code",
   "execution_count": 2,
   "metadata": {
    "collapsed": true
   },
   "outputs": [],
   "source": [
    "heroes = pd.read_csv('dota_hero_stats.csv')"
   ]
  },
  {
   "cell_type": "code",
   "execution_count": 3,
   "outputs": [
    {
     "data": {
      "text/plain": "     Unnamed: 0 attack_type   id  legs  localized_name  \\\n0             0       Melee    1     2       Anti-Mage   \n1             1       Melee    2     2             Axe   \n2             2      Ranged    3     4            Bane   \n3             3       Melee    4     2     Bloodseeker   \n4             4      Ranged    5     2  Crystal Maiden   \n..          ...         ...  ...   ...             ...   \n112         112       Melee  114     2     Monkey King   \n113         113      Ranged  119     2     Dark Willow   \n114         114       Melee  120     2       Pangolier   \n115         115      Ranged  121     2      Grimstroke   \n116         116       Melee  129     2            Mars   \n\n                             name primary_attr  \\\n0          npc_dota_hero_antimage          agi   \n1               npc_dota_hero_axe          str   \n2              npc_dota_hero_bane          int   \n3       npc_dota_hero_bloodseeker          agi   \n4    npc_dota_hero_crystal_maiden          int   \n..                            ...          ...   \n112     npc_dota_hero_monkey_king          agi   \n113     npc_dota_hero_dark_willow          int   \n114       npc_dota_hero_pangolier          agi   \n115      npc_dota_hero_grimstroke          int   \n116            npc_dota_hero_mars          str   \n\n                                                 roles  \n0                         ['Carry', 'Escape', 'Nuker']  \n1      ['Initiator', 'Durable', 'Disabler', 'Jungler']  \n2          ['Support', 'Disabler', 'Nuker', 'Durable']  \n3    ['Carry', 'Disabler', 'Jungler', 'Nuker', 'Ini...  \n4          ['Support', 'Disabler', 'Nuker', 'Jungler']  \n..                                                 ...  \n112       ['Carry', 'Escape', 'Disabler', 'Initiator']  \n113         ['Support', 'Nuker', 'Disabler', 'Escape']  \n114  ['Carry', 'Nuker', 'Disabler', 'Durable', 'Esc...  \n115         ['Support', 'Nuker', 'Disabler', 'Escape']  \n116      ['Carry', 'Initiator', 'Disabler', 'Durable']  \n\n[117 rows x 8 columns]",
      "text/html": "<div>\n<style scoped>\n    .dataframe tbody tr th:only-of-type {\n        vertical-align: middle;\n    }\n\n    .dataframe tbody tr th {\n        vertical-align: top;\n    }\n\n    .dataframe thead th {\n        text-align: right;\n    }\n</style>\n<table border=\"1\" class=\"dataframe\">\n  <thead>\n    <tr style=\"text-align: right;\">\n      <th></th>\n      <th>Unnamed: 0</th>\n      <th>attack_type</th>\n      <th>id</th>\n      <th>legs</th>\n      <th>localized_name</th>\n      <th>name</th>\n      <th>primary_attr</th>\n      <th>roles</th>\n    </tr>\n  </thead>\n  <tbody>\n    <tr>\n      <th>0</th>\n      <td>0</td>\n      <td>Melee</td>\n      <td>1</td>\n      <td>2</td>\n      <td>Anti-Mage</td>\n      <td>npc_dota_hero_antimage</td>\n      <td>agi</td>\n      <td>['Carry', 'Escape', 'Nuker']</td>\n    </tr>\n    <tr>\n      <th>1</th>\n      <td>1</td>\n      <td>Melee</td>\n      <td>2</td>\n      <td>2</td>\n      <td>Axe</td>\n      <td>npc_dota_hero_axe</td>\n      <td>str</td>\n      <td>['Initiator', 'Durable', 'Disabler', 'Jungler']</td>\n    </tr>\n    <tr>\n      <th>2</th>\n      <td>2</td>\n      <td>Ranged</td>\n      <td>3</td>\n      <td>4</td>\n      <td>Bane</td>\n      <td>npc_dota_hero_bane</td>\n      <td>int</td>\n      <td>['Support', 'Disabler', 'Nuker', 'Durable']</td>\n    </tr>\n    <tr>\n      <th>3</th>\n      <td>3</td>\n      <td>Melee</td>\n      <td>4</td>\n      <td>2</td>\n      <td>Bloodseeker</td>\n      <td>npc_dota_hero_bloodseeker</td>\n      <td>agi</td>\n      <td>['Carry', 'Disabler', 'Jungler', 'Nuker', 'Ini...</td>\n    </tr>\n    <tr>\n      <th>4</th>\n      <td>4</td>\n      <td>Ranged</td>\n      <td>5</td>\n      <td>2</td>\n      <td>Crystal Maiden</td>\n      <td>npc_dota_hero_crystal_maiden</td>\n      <td>int</td>\n      <td>['Support', 'Disabler', 'Nuker', 'Jungler']</td>\n    </tr>\n    <tr>\n      <th>...</th>\n      <td>...</td>\n      <td>...</td>\n      <td>...</td>\n      <td>...</td>\n      <td>...</td>\n      <td>...</td>\n      <td>...</td>\n      <td>...</td>\n    </tr>\n    <tr>\n      <th>112</th>\n      <td>112</td>\n      <td>Melee</td>\n      <td>114</td>\n      <td>2</td>\n      <td>Monkey King</td>\n      <td>npc_dota_hero_monkey_king</td>\n      <td>agi</td>\n      <td>['Carry', 'Escape', 'Disabler', 'Initiator']</td>\n    </tr>\n    <tr>\n      <th>113</th>\n      <td>113</td>\n      <td>Ranged</td>\n      <td>119</td>\n      <td>2</td>\n      <td>Dark Willow</td>\n      <td>npc_dota_hero_dark_willow</td>\n      <td>int</td>\n      <td>['Support', 'Nuker', 'Disabler', 'Escape']</td>\n    </tr>\n    <tr>\n      <th>114</th>\n      <td>114</td>\n      <td>Melee</td>\n      <td>120</td>\n      <td>2</td>\n      <td>Pangolier</td>\n      <td>npc_dota_hero_pangolier</td>\n      <td>agi</td>\n      <td>['Carry', 'Nuker', 'Disabler', 'Durable', 'Esc...</td>\n    </tr>\n    <tr>\n      <th>115</th>\n      <td>115</td>\n      <td>Ranged</td>\n      <td>121</td>\n      <td>2</td>\n      <td>Grimstroke</td>\n      <td>npc_dota_hero_grimstroke</td>\n      <td>int</td>\n      <td>['Support', 'Nuker', 'Disabler', 'Escape']</td>\n    </tr>\n    <tr>\n      <th>116</th>\n      <td>116</td>\n      <td>Melee</td>\n      <td>129</td>\n      <td>2</td>\n      <td>Mars</td>\n      <td>npc_dota_hero_mars</td>\n      <td>str</td>\n      <td>['Carry', 'Initiator', 'Disabler', 'Durable']</td>\n    </tr>\n  </tbody>\n</table>\n<p>117 rows × 8 columns</p>\n</div>"
     },
     "execution_count": 3,
     "metadata": {},
     "output_type": "execute_result"
    }
   ],
   "source": [
    "heroes"
   ],
   "metadata": {
    "collapsed": false,
    "pycharm": {
     "name": "#%%\n"
    }
   }
  },
  {
   "cell_type": "code",
   "execution_count": 14,
   "outputs": [
    {
     "data": {
      "text/plain": "<AxesSubplot:>"
     },
     "execution_count": 14,
     "metadata": {},
     "output_type": "execute_result"
    },
    {
     "data": {
      "text/plain": "<Figure size 432x288 with 1 Axes>",
      "image/png": "[encoded data removed]"
     },
     "metadata": {
      "needs_background": "light"
     },
     "output_type": "display_data"
    }
   ],
   "source": [
    "(heroes.roles.str.count(',')+1).hist(bins = 11)"
   ],
   "metadata": {
    "collapsed": false,
    "pycharm": {
     "name": "#%%\n"
    }
   }
  },
  {
   "cell_type": "code",
   "execution_count": null,
   "outputs": [],
   "source": [],
   "metadata": {
    "collapsed": false,
    "pycharm": {
     "name": "#%%\n"
    }
   }
  }
 ],
 "metadata": {
  "kernelspec": {
   "display_name": "Python 3",
   "language": "python",
   "name": "python3"
  },
  "language_info": {
   "codemirror_mode": {
    "name": "ipython",
    "version": 2
   },
   "file_extension": ".py",
   "mimetype": "text/x-python",
   "name": "python",
   "nbconvert_exporter": "python",
   "pygments_lexer": "ipython2",
   "version": "2.7.6"
  }
 },
 "nbformat": 4,
 "nbformat_minor": 0
}